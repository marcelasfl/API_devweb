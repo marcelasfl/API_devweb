{
  "nbformat": 4,
  "nbformat_minor": 0,
  "metadata": {
    "colab": {
      "provenance": [],
      "include_colab_link": true
    },
    "kernelspec": {
      "name": "python3",
      "display_name": "Python 3"
    },
    "language_info": {
      "name": "python"
    }
  },
  "cells": [
    {
      "cell_type": "markdown",
      "metadata": {
        "id": "view-in-github",
        "colab_type": "text"
      },
      "source": [
        "<a href=\"https://colab.research.google.com/github/marcelasfl/API_devweb/blob/master/C%C3%B3pia_de_IA_BFS_NetworkX.ipynb\" target=\"_parent\"><img src=\"https://colab.research.google.com/assets/colab-badge.svg\" alt=\"Open In Colab\"/></a>"
      ]
    },
    {
      "cell_type": "code",
      "source": [
        "# Marcela Starling\n"
      ],
      "metadata": {
        "id": "qY5_ih98UhF9"
      },
      "execution_count": null,
      "outputs": []
    },
    {
      "cell_type": "code",
      "execution_count": null,
      "metadata": {
        "id": "rRBODUb-4nXs"
      },
      "outputs": [],
      "source": [
        "import networkx as nx\n",
        "import numpy as np"
      ]
    },
    {
      "cell_type": "code",
      "source": [],
      "metadata": {
        "id": "0qMc0cZ_bOcc"
      },
      "execution_count": null,
      "outputs": []
    },
    {
      "cell_type": "code",
      "source": [
        "from collections import deque"
      ],
      "metadata": {
        "id": "kxs7Mp1hiC5V"
      },
      "execution_count": null,
      "outputs": []
    },
    {
      "cell_type": "code",
      "source": [
        "G = nx.Graph()"
      ],
      "metadata": {
        "id": "bp829CXy4575"
      },
      "execution_count": null,
      "outputs": []
    },
    {
      "cell_type": "code",
      "source": [
        "\n",
        "G.add_edges_from(\n",
        "    [('v','r'),\n",
        "     ('r','s'),\n",
        "     ('s','w'),\n",
        "     ('w','t'),\n",
        "     ('w','x'),\n",
        "     ('t','x'),\n",
        "     ('t','u'),\n",
        "     ('x','u'),\n",
        "     ('x','z'),\n",
        "     ('u','z')\n",
        "     ]\n",
        ")"
      ],
      "metadata": {
        "id": "6YEyErDa5P7G"
      },
      "execution_count": null,
      "outputs": []
    },
    {
      "cell_type": "code",
      "source": [
        "nx.draw(G, with_labels=True)"
      ],
      "metadata": {
        "colab": {
          "base_uri": "https://localhost:8080/",
          "height": 516
        },
        "id": "zS24-yxYjpmV",
        "outputId": "77db1f59-1b16-4720-9c57-1d200651ca56"
      },
      "execution_count": null,
      "outputs": [
        {
          "output_type": "display_data",
          "data": {
            "text/plain": [
              "<Figure size 640x480 with 1 Axes>"
            ],
            "image/png": "[encoded data removed]"
          },
          "metadata": {}
        }
      ]
    },
    {
      "cell_type": "code",
      "source": [
        "s = 's'"
      ],
      "metadata": {
        "id": "gSRCr4iRfUey"
      },
      "execution_count": null,
      "outputs": []
    },
    {
      "cell_type": "code",
      "source": [
        "G.nodes()"
      ],
      "metadata": {
        "colab": {
          "base_uri": "https://localhost:8080/"
        },
        "id": "Baj2GsMvf7vJ",
        "outputId": "77ed6bbc-cbfd-408c-a83a-fa00d2175481"
      },
      "execution_count": null,
      "outputs": [
        {
          "output_type": "execute_result",
          "data": {
            "text/plain": [
              "NodeView(('v', 'r', 's', 'w', 't', 'x', 'u', 'z'))"
            ]
          },
          "metadata": {},
          "execution_count": 8
        }
      ]
    },
    {
      "cell_type": "code",
      "source": [
        "G.edges()"
      ],
      "metadata": {
        "colab": {
          "base_uri": "https://localhost:8080/"
        },
        "id": "QVeTYi99TY6f",
        "outputId": "09dfe6e6-1996-45e0-abc7-d631b2cb3eb0"
      },
      "execution_count": null,
      "outputs": [
        {
          "output_type": "execute_result",
          "data": {
            "text/plain": [
              "EdgeView([('v', 'r'), ('r', 's'), ('s', 'w'), ('w', 't'), ('w', 'x'), ('t', 'x'), ('t', 'u'), ('x', 'u'), ('x', 'z'), ('u', 'z')])"
            ]
          },
          "metadata": {},
          "execution_count": 9
        }
      ]
    },
    {
      "cell_type": "code",
      "source": [
        "# def BFS(G,s):\n",
        "\n",
        "# INICIALIZACAO\n",
        "for v in G.nodes() - {s}:\n",
        "    G.nodes[v]['cor'] = 'branco'\n",
        "    G.nodes[v]['dis'] = np.inf\n",
        "\n",
        "G.nodes[s]['cor'] = 'cinza'\n",
        "G.nodes[s]['dis'] = 0\n",
        "\n",
        "# Fila (append (right), popleft)\n",
        "Q = deque()\n",
        "Q.append(s)"
      ],
      "metadata": {
        "id": "a-0uUG9W5vZf"
      },
      "execution_count": null,
      "outputs": []
    },
    {
      "cell_type": "code",
      "source": [
        "G.nodes(data=True)"
      ],
      "metadata": {
        "colab": {
          "base_uri": "https://localhost:8080/"
        },
        "id": "jc4sPQ-eSXl1",
        "outputId": "c6537dfc-9406-4627-f23f-051eaeb18941"
      },
      "execution_count": null,
      "outputs": [
        {
          "output_type": "execute_result",
          "data": {
            "text/plain": [
              "NodeDataView({'v': {'cor': 'branco', 'dis': inf}, 'r': {'cor': 'branco', 'dis': inf}, 's': {'cor': 'cinza', 'dis': 0}, 'w': {'cor': 'branco', 'dis': inf}, 't': {'cor': 'branco', 'dis': inf}, 'x': {'cor': 'branco', 'dis': inf}, 'u': {'cor': 'branco', 'dis': inf}, 'z': {'cor': 'branco', 'dis': inf}})"
            ]
          },
          "metadata": {},
          "execution_count": 13
        }
      ]
    },
    {
      "cell_type": "code",
      "source": [
        "while len(Q) != 0:\n",
        "    u = Q.popleft()\n",
        "\n",
        "    for v in G.neighbors(u):\n",
        "        if G.nodes[v]['cor'] == 'branco':\n",
        "            G.nodes[v]['cor'] = 'cinza'\n",
        "            G.nodes[v]['dis'] = G.nodes[u]['dis'] + 1\n",
        "            G.nodes[v]['pre'] = u\n",
        "\n",
        "            Q.append(v)\n",
        "\n",
        "    print(u)\n",
        "\n",
        "    G.nodes[u]['cor'] = 'preto'"
      ],
      "metadata": {
        "id": "J9mzUguBbFWw",
        "colab": {
          "base_uri": "https://localhost:8080/"
        },
        "outputId": "881b3654-ab00-4767-c2db-b7dce1aabf9a"
      },
      "execution_count": null,
      "outputs": [
        {
          "output_type": "stream",
          "name": "stdout",
          "text": [
            "s\n",
            "r\n",
            "w\n",
            "v\n",
            "t\n",
            "x\n",
            "u\n",
            "z\n"
          ]
        }
      ]
    },
    {
      "cell_type": "code",
      "source": [
        "for node in G.nodes(data=True):\n",
        "    print(node)"
      ],
      "metadata": {
        "colab": {
          "base_uri": "https://localhost:8080/"
        },
        "id": "FBnKfYajjgDk",
        "outputId": "6854d7c5-869e-44c2-94bf-abfa9a87a617"
      },
      "execution_count": null,
      "outputs": [
        {
          "output_type": "stream",
          "name": "stdout",
          "text": [
            "('v', {'cor': 'preto', 'dis': 2, 'pre': 'r'})\n",
            "('r', {'cor': 'preto', 'dis': 1, 'pre': 's'})\n",
            "('s', {'cor': 'preto', 'dis': 0})\n",
            "('w', {'cor': 'preto', 'dis': 1, 'pre': 's'})\n",
            "('t', {'cor': 'preto', 'dis': 2, 'pre': 'w'})\n",
            "('x', {'cor': 'preto', 'dis': 2, 'pre': 'w'})\n",
            "('u', {'cor': 'preto', 'dis': 3, 'pre': 't'})\n",
            "('z', {'cor': 'preto', 'dis': 3, 'pre': 'x'})\n"
          ]
        }
      ]
    },
    {
      "cell_type": "code",
      "source": [
        "nx.draw(G, with_labels=True)"
      ],
      "metadata": {
        "id": "riSUg_l2wJJz",
        "outputId": "4db66419-2fc8-4d40-8272-6c8b9c7f6e89",
        "colab": {
          "base_uri": "https://localhost:8080/",
          "height": 516
        }
      },
      "execution_count": null,
      "outputs": [
        {
          "output_type": "display_data",
          "data": {
            "text/plain": [
              "<Figure size 640x480 with 1 Axes>"
            ],
            "image/png": "[encoded data removed]"
          },
          "metadata": {}
        }
      ]
    },
    {
      "cell_type": "code",
      "source": [
        "def caminho_minimo(G, s, t):\n",
        "\n",
        "    L = [t]\n",
        "    u = t\n",
        "    while u != s:\n",
        "        u = G.nodes[u]['pre']\n",
        "        L.append(u)\n",
        "\n",
        "    L.reverse()\n",
        "\n",
        "    return L"
      ],
      "metadata": {
        "id": "RelhX749j7Iz"
      },
      "execution_count": null,
      "outputs": []
    },
    {
      "cell_type": "code",
      "source": [
        "caminho_minimo(G, 's', 'z')\n"
      ],
      "metadata": {
        "colab": {
          "base_uri": "https://localhost:8080/"
        },
        "id": "-OIpppxcqIZ7",
        "outputId": "19c247ef-dcbb-470c-95e5-6de5dd9d51b2"
      },
      "execution_count": null,
      "outputs": [
        {
          "output_type": "execute_result",
          "data": {
            "text/plain": [
              "['s', 'w', 'x', 'z']"
            ]
          },
          "metadata": {},
          "execution_count": 19
        }
      ]
    },
    {
      "cell_type": "code",
      "source": [
        "caminho_minimo(G, 's', 'v')\n"
      ],
      "metadata": {
        "colab": {
          "base_uri": "https://localhost:8080/"
        },
        "id": "p3MNI5tjqNs7",
        "outputId": "281596be-c7ab-4f16-eda2-fd7f21586247"
      },
      "execution_count": null,
      "outputs": [
        {
          "output_type": "execute_result",
          "data": {
            "text/plain": [
              "['s', 'r', 'v']"
            ]
          },
          "metadata": {},
          "execution_count": 20
        }
      ]
    },
    {
      "cell_type": "markdown",
      "source": [
        "## Exercícios:\n",
        "\n",
        "### 1) Implemente o DFS a partir de uma variante do código acima\n",
        "\n",
        "### 2) De maneir simlar ao exercício 1, Implemente o ID-DFS"
      ],
      "metadata": {
        "id": "KMC9WMpuqjkI"
      }
    },
    {
      "cell_type": "code",
      "source": [
        "# Exercício 1\n",
        "def dfs(graph, start):\n",
        "    visited = set()\n",
        "\n",
        "    def dfs_recursive(v):\n",
        "        if v not in visited:\n",
        "            visited.add(v)\n",
        "            print(v, end=\" \")\n",
        "            for neighbor in graph.neighbors(v):\n",
        "                dfs_recursive(neighbor)\n",
        "\n",
        "    dfs_recursive(start)\n",
        "\n",
        "print(\"DFS a partir de 'v':\")\n",
        "dfs(G, 'v')\n",
        "\n"
      ],
      "metadata": {
        "id": "_h0TllxhUd5W",
        "outputId": "b85057e7-ca69-4880-ea84-030174b1f93a",
        "colab": {
          "base_uri": "https://localhost:8080/"
        }
      },
      "execution_count": null,
      "outputs": [
        {
          "output_type": "stream",
          "name": "stdout",
          "text": [
            "DFS a partir de 'v':\n",
            "v r s w t x u z ID-DFS a partir de 'v':\n",
            "\n",
            "Profundidade: 1\n",
            "v \n",
            "Profundidade: 2\n",
            "v r \n",
            "Profundidade: 3\n",
            "v r s \n",
            "Profundidade: 4\n",
            "v r s w \n",
            "Profundidade: 5\n",
            "v r s w t x "
          ]
        }
      ]
    },
    {
      "cell_type": "code",
      "source": [
        "# Exercício 2\n",
        "def dfs_limited(graph, node, depth, visited=set()):\n",
        "    if depth == 0:\n",
        "        return False\n",
        "    if node not in visited:\n",
        "        print(node, end=\" \")\n",
        "        visited.add(node)\n",
        "        for neighbor in graph.neighbors(node):\n",
        "            if dfs_limited(graph, neighbor, depth - 1, visited):\n",
        "                return True\n",
        "    return False\n",
        "\n",
        "def iddfs(graph, start, max_depth):\n",
        "    for depth in range(1, max_depth + 1):\n",
        "        visited = set()\n",
        "        print(f\"\\nProfundidade: {depth}\")\n",
        "        dfs_limited(graph, start, depth, visited)\n",
        "\n",
        "print(\"ID-DFS a partir de 'v':\")\n",
        "iddfs(G, 'v', 7)\n"
      ],
      "metadata": {
        "id": "E65pXrgoK6n0",
        "outputId": "20ffb949-b0b7-452b-fbc9-1805c7f93fde",
        "colab": {
          "base_uri": "https://localhost:8080/"
        }
      },
      "execution_count": null,
      "outputs": [
        {
          "output_type": "stream",
          "name": "stdout",
          "text": [
            "ID-DFS a partir de 'v':\n",
            "\n",
            "Profundidade: 1\n",
            "v \n",
            "Profundidade: 2\n",
            "v r \n",
            "Profundidade: 3\n",
            "v r s \n",
            "Profundidade: 4\n",
            "v r s w \n",
            "Profundidade: 5\n",
            "v r s w t x \n",
            "Profundidade: 6\n",
            "v r s w t x u \n",
            "Profundidade: 7\n",
            "v r s w t x u z "
          ]
        }
      ]
    }
  ]
}